{
 "cells": [
  {
   "cell_type": "code",
   "execution_count": null,
   "id": "cb59c74c",
   "metadata": {},
   "outputs": [
    {
     "name": "stderr",
     "output_type": "stream",
     "text": [
      "[nltk_data] Downloading package stopwords to\n",
      "[nltk_data]     C:\\Users\\pc\\AppData\\Roaming\\nltk_data...\n",
      "[nltk_data]   Package stopwords is already up-to-date!\n",
      "[nltk_data] Downloading package vader_lexicon to\n",
      "[nltk_data]     C:\\Users\\pc\\AppData\\Roaming\\nltk_data...\n",
      "[nltk_data]   Package vader_lexicon is already up-to-date!\n",
      "100%|██████████| 4/4 [00:05<00:00,  1.39s/it]\n",
      "100%|██████████| 4/4 [00:02<00:00,  1.52it/s]\n",
      "100%|██████████| 4/4 [00:02<00:00,  1.36it/s]\n",
      "100%|██████████| 263/263 [00:00<00:00, 3704.29it/s]"
     ]
    },
    {
     "name": "stdout",
     "output_type": "stream",
     "text": [
      "\n",
      "Top Keywords by Bank:\n",
      "CBE: ['app', 'good', 'nice', 'like', 'network', 'make', 'use', 'bank', 'work', 'problem', 'awesome', 'cbe', 'fast', 'love', 'service', 'issue', 'fantastic', 'money', 'banking', 'send']\n",
      "BOA: ['good', 'app', 'work', 'boa', 'bank', 'bad', 'like', 'use', 'really', 'open', 'mobile', 'wow', 'thank', 'excellent', 'application', 'update', 'time', 'great', 'make', 'nice']\n",
      "Dashen: ['good', 'app', 'nice', 'use', 'banking', 'work', 'wow', 'amole', 'bank', 'mobile', 'update', 'dashin', 'need', 'fast', 'slow', 'dashen', 'love', 'like', 'option', 'bad']\n",
      "\n",
      "✅ Pipeline finished. Results saved to 'bank_reviews_analysis.csv'\n"
     ]
    },
    {
     "name": "stderr",
     "output_type": "stream",
     "text": [
      "\n"
     ]
    }
   ],
   "source": [
    "from google_play_scraper import reviews, Sort\n",
    "import pandas as pd\n",
    "from tqdm import tqdm\n",
    "from nltk.corpus import stopwords\n",
    "from nltk.sentiment.vader import SentimentIntensityAnalyzer\n",
    "import nltk\n",
    "import re\n",
    "import spacy\n",
    "from sklearn.feature_extraction.text import TfidfVectorizer\n",
    "import cx_Oracle\n",
    "\n",
    "# Download required NLTK resources\n",
    "nltk.download('stopwords')\n",
    "nltk.download('vader_lexicon')\n",
    "\n",
    "# Load English NLP and stopwords\n",
    "nlp = spacy.load('en_core_web_sm')\n",
    "stop_words = set(stopwords.words('english'))\n",
    "vader = SentimentIntensityAnalyzer()\n",
    "\n",
    "# Step 1: Fetch reviews from Google Play\n",
    "def fetch_reviews(app_id, bank_name, count=400):\n",
    "    all_reviews = []\n",
    "    for _ in tqdm(range(0, count, 100)):\n",
    "        result, _ = reviews(\n",
    "            app_id,\n",
    "            lang='en',\n",
    "            country='et',\n",
    "            sort=Sort.NEWEST,\n",
    "            count=100\n",
    "        )\n",
    "        for r in result:\n",
    "            all_reviews.append({\n",
    "                \"review\": r['content'],\n",
    "                \"rating\": r['score'],\n",
    "                \"date\": r['at'].strftime('%Y-%m-%d'),\n",
    "                \"bank\": bank_name,\n",
    "                \"source\": \"Google Play\"\n",
    "            })\n",
    "    return all_reviews\n",
    "\n",
    "# Bank app package IDs\n",
    "apps = {\n",
    "    \"com.combanketh.mobilebanking\": \"CBE\",\n",
    "    \"com.boa.boaMobileBanking\": \"BOA\",\n",
    "    \"com.cr2.amolelight\": \"Dashen\"\n",
    "}\n",
    "\n",
    "# Fetch and save raw reviews\n",
    "all_data = []\n",
    "for package, name in apps.items():\n",
    "    all_data += fetch_reviews(package, name, 400)\n",
    "\n",
    "df = pd.DataFrame(all_data)\n",
    "df.to_csv(\"raw_reviews.csv\", index=False)\n",
    "\n",
    "# Step 2: Clean and deduplicate data\n",
    "df.drop_duplicates(subset=[\"review\", \"bank\"], inplace=True)\n",
    "df.dropna(subset=[\"review\", \"rating\", \"date\", \"bank\", \"source\"], inplace=True)\n",
    "df.to_csv(\"cleaned_reviews.csv\", index=False)\n",
    "\n"
   ]
  },
  {
   "cell_type": "code",
   "execution_count": null,
   "id": "42851ae3",
   "metadata": {},
   "outputs": [
    {
     "name": "stdout",
     "output_type": "stream",
     "text": [
      "Inserted or existing banks with IDs:\n",
      "Dashen Bank: 4\n",
      "CBE: 5\n",
      "Abyssinia Bank: 7\n"
     ]
    }
   ],
   "source": []
  }
 ],
 "metadata": {
  "kernelspec": {
   "display_name": "venv",
   "language": "python",
   "name": "python3"
  },
  "language_info": {
   "codemirror_mode": {
    "name": "ipython",
    "version": 3
   },
   "file_extension": ".py",
   "mimetype": "text/x-python",
   "name": "python",
   "nbconvert_exporter": "python",
   "pygments_lexer": "ipython3",
   "version": "3.11.3"
  }
 },
 "nbformat": 4,
 "nbformat_minor": 5
}
