{
 "cells": [
  {
   "cell_type": "code",
   "execution_count": null,
   "id": "b52fee3e",
   "metadata": {},
   "outputs": [
    {
     "name": "stderr",
     "output_type": "stream",
     "text": [
      "[nltk_data] Downloading package vader_lexicon to\n",
      "[nltk_data]     C:\\Users\\pc\\AppData\\Roaming\\nltk_data...\n",
      "[nltk_data]   Package vader_lexicon is already up-to-date!\n",
      "100%|██████████| 262/262 [00:00<00:00, 1144.19it/s]"
     ]
    },
    {
     "name": "stdout",
     "output_type": "stream",
     "text": [
      "\n",
      "Top Keywords by Bank:\n",
      "CBE: ['app', 'good', 'nice', 'best', 'like', 'network', 'bank', 'awesome', 'fast', 'love', 'cbe', 'using', 'problem', 'make', 'fantastic', 'money', 'banking', 'application', 'better', 'easy']\n",
      "BOA: ['app', 'good', 'boa', 'best', 'bank', 'work', 'working', 'really', 'wow', 'thank', 'mobile', 'doesn', 'excellent', 'like', 'application', 'great', 'use', 'worst', 'update', 'amazing']\n",
      "Dashen: ['app', 'good', 'best', 'nice', 'banking', 'wow', 'use', 'amole', 'mobile', 'bank', 'dashin', 'fast', 'update', 'used', 'slow', 'dashen', 'needs', 'love', 'like', 'just']\n",
      "\n",
      "✅ Sentiment + Theme pipeline completed. Output: 'data/bank_reviews_analysis.csv'\n"
     ]
    },
    {
     "name": "stderr",
     "output_type": "stream",
     "text": [
      "\n"
     ]
    }
   ],
   "source": [
    "# nootbooks/analysis/sentiment_analysis.ipynb\n",
    "\n",
    "import pandas as pd\n",
    "from tqdm import tqdm\n",
    "from nltk.sentiment.vader import SentimentIntensityAnalyzer\n",
    "from sklearn.feature_extraction.text import TfidfVectorizer\n",
    "import nltk\n",
    "import os\n",
    "\n",
    "# Download VADER lexicon \n",
    "nltk.download('vader_lexicon')\n",
    "\n",
    "# Initialize\n",
    "tqdm.pandas()\n",
    "vader = SentimentIntensityAnalyzer()\n",
    "\n",
    "# Load preprocessed data\n",
    "df = pd.read_csv(\"../../data/cleaned_reviews.csv\")  \n",
    "\n",
    "# Sentiment analysis\n",
    "def get_sentiment_label(text):\n",
    "    scores = vader.polarity_scores(str(text))\n",
    "    compound = scores['compound']\n",
    "    if compound >= 0.05:\n",
    "        return \"positive\", compound\n",
    "    elif compound <= -0.05:\n",
    "        return \"negative\", compound\n",
    "    else:\n",
    "        return \"neutral\", compound\n",
    "\n",
    "df[['sentiment_label', 'sentiment_score']] = df['review'].progress_apply(\n",
    "    lambda x: pd.Series(get_sentiment_label(x))\n",
    ")\n",
    "\n",
    "# Theme assignment\n",
    "def assign_theme(text):\n",
    "    text = str(text).lower()\n",
    "    if any(word in text for word in [\"login\", \"access\", \"password\", \"otp\"]):\n",
    "        return \"Account Access Issues\"\n",
    "    elif any(word in text for word in [\"slow\", \"transfer\", \"fail\", \"delay\"]):\n",
    "        return \"Transaction Performance\"\n",
    "    elif any(word in text for word in [\"design\", \"interface\", \"navigation\", \"ui\"]):\n",
    "        return \"User Interface & Experience\"\n",
    "    elif any(word in text for word in [\"support\", \"help\", \"call\", \"agent\"]):\n",
    "        return \"Customer Support\"\n",
    "    elif any(word in text for word in [\"feature\", \"add\", \"request\", \"option\"]):\n",
    "        return \"Feature Requests\"\n",
    "    else:\n",
    "        return \"Other\"\n",
    "\n",
    "df['theme'] = df['review'].apply(assign_theme)  \n",
    "\n",
    "# TF-IDF for keywords\n",
    "def extract_keywords(corpus, top_n=20):\n",
    "    vectorizer = TfidfVectorizer(max_df=0.85, stop_words='english')\n",
    "    X = vectorizer.fit_transform(corpus.astype(str))\n",
    "    tfidf_scores = zip(vectorizer.get_feature_names_out(), X.sum(axis=0).A1)\n",
    "    sorted_keywords = sorted(tfidf_scores, key=lambda x: x[1], reverse=True)\n",
    "    return [kw for kw, _ in sorted_keywords[:top_n]]\n",
    "\n",
    "def extract_themes_per_bank(df):\n",
    "    themes_per_bank = {}\n",
    "    for bank in df['bank'].unique():\n",
    "        bank_df = df[df['bank'] == bank]\n",
    "        keywords = extract_keywords(bank_df['review'])\n",
    "        themes_per_bank[bank] = keywords\n",
    "    return themes_per_bank\n",
    "\n",
    "themes = extract_themes_per_bank(df)\n",
    "print(\"\\nTop Keywords by Bank:\")\n",
    "for bank, keywords in themes.items():\n",
    "    print(f\"{bank}: {keywords}\")\n",
    "\n",
    "# output\n",
    "df.reset_index(inplace=True)\n",
    "df.rename(columns={\"index\": \"review_id\"}, inplace=True)\n",
    "df.to_csv(\"../../data/bank_reviews_analysis.csv\", index=False)\n",
    "\n",
    "print(\"\\n✅ Sentiment + Theme pipeline completed. Output: 'data/bank_reviews_analysis.csv'\")\n"
   ]
  }
 ],
 "metadata": {
  "kernelspec": {
   "display_name": "venv",
   "language": "python",
   "name": "python3"
  },
  "language_info": {
   "codemirror_mode": {
    "name": "ipython",
    "version": 3
   },
   "file_extension": ".py",
   "mimetype": "text/x-python",
   "name": "python",
   "nbconvert_exporter": "python",
   "pygments_lexer": "ipython3",
   "version": "3.11.3"
  }
 },
 "nbformat": 4,
 "nbformat_minor": 5
}
